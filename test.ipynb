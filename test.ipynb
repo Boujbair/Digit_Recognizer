{
 "cells": [
  {
   "cell_type": "code",
   "execution_count": 34,
   "metadata": {},
   "outputs": [],
   "source": [
    "import numpy as np\n",
    "import pandas as pd\n",
    "import tensorflow as tf"
   ]
  },
  {
   "cell_type": "code",
   "execution_count": 35,
   "metadata": {},
   "outputs": [],
   "source": [
    "df=pd.read_csv('train.csv')\n",
    "dt=pd.read_csv('test.csv')"
   ]
  },
  {
   "cell_type": "code",
   "execution_count": 39,
   "metadata": {
    "scrolled": true
   },
   "outputs": [],
   "source": [
    "train=df.drop(columns=['label']).to_numpy().reshape((-1,28,28,1))/255\n",
    "label=df['label'].to_numpy()\n",
    "\n",
    "test=dt.to_numpy().reshape((-1,28,28,1))/255"
   ]
  },
  {
   "cell_type": "code",
   "execution_count": 40,
   "metadata": {},
   "outputs": [],
   "source": [
    "datagen =tf.keras.preprocessing.image.ImageDataGenerator(\n",
    "        featurewise_center=False,  # set input mean to 0 over the dataset\n",
    "        samplewise_center=False,  # set each sample mean to 0\n",
    "        featurewise_std_normalization=False,  # divide inputs by std of the dataset\n",
    "        samplewise_std_normalization=False,  # divide each input by its std\n",
    "        zca_whitening=False,  # apply ZCA whitening\n",
    "        rotation_range=10,  # randomly rotate images in the range (degrees, 0 to 180)\n",
    "        zoom_range = 0.1, # Randomly zoom image \n",
    "        width_shift_range=0.1,  # randomly shift images horizontally (fraction of total width)\n",
    "        height_shift_range=0.1,  # randomly shift images vertically (fraction of total height)\n",
    "        horizontal_flip=False,  # randomly flip images\n",
    "        vertical_flip=False)  # randomly flip images\n",
    "\n",
    "\n",
    "datagen.fit(train)\n"
   ]
  },
  {
   "cell_type": "code",
   "execution_count": 41,
   "metadata": {},
   "outputs": [],
   "source": [
    "model=tf.keras.Sequential()\n",
    "model.add(tf.keras.layers.Conv2D(32,kernel_size=(3,3),input_shape=(28,28,1),use_bias=True,activation='relu'))\n",
    "model.add(tf.keras.layers.MaxPool2D(pool_size=(2,2),strides=(2,2)))\n",
    "model.add(tf.keras.layers.Dropout(0.25))\n",
    "model.add(tf.keras.layers.Conv2D(128,kernel_size=(4,4),use_bias=True,activation='relu'))\n",
    "model.add(tf.keras.layers.MaxPool2D(pool_size=(2,2),strides=(2,2)))\n",
    "model.add(tf.keras.layers.Dropout(0.2))\n",
    "model.add(tf.keras.layers.Conv2D(256,kernel_size=(4,4),use_bias=True,activation='relu'))\n",
    "model.add(tf.keras.layers.MaxPool2D(pool_size=(2,2)))\n",
    "model.add(tf.keras.layers.Dropout(0.2))\n",
    "model.add(tf.keras.layers.Flatten())\n",
    "model.add(tf.keras.layers.Dense(128,activation='relu'))\n",
    "model.add(tf.keras.layers.Dense(32,activation='relu'))\n",
    "model.add(tf.keras.layers.BatchNormalization())\n",
    "model.add(tf.keras.layers.Dense(10,activation=tf.nn.softmax))\n",
    "model.compile(optimizer='adam', loss='sparse_categorical_crossentropy',metrics=['accuracy'])"
   ]
  },
  {
   "cell_type": "code",
   "execution_count": 15,
   "metadata": {},
   "outputs": [
    {
     "name": "stdout",
     "output_type": "stream",
     "text": [
      "Epoch 1/30\n",
      "1313/1313 [==============================] - 155s 117ms/step - loss: 0.2118 - accuracy: 0.9429\n",
      "Epoch 2/30\n",
      "1313/1313 [==============================] - 215s 164ms/step - loss: 0.0621 - accuracy: 0.9810\n",
      "Epoch 3/30\n",
      "1313/1313 [==============================] - 148s 113ms/step - loss: 0.0464 - accuracy: 0.9863\n",
      "Epoch 4/30\n",
      "1313/1313 [==============================] - 138s 105ms/step - loss: 0.0380 - accuracy: 0.9881\n",
      "Epoch 5/30\n",
      "1313/1313 [==============================] - 138s 105ms/step - loss: 0.0346 - accuracy: 0.9895\n",
      "Epoch 6/30\n",
      "1313/1313 [==============================] - 138s 105ms/step - loss: 0.0284 - accuracy: 0.9911\n",
      "Epoch 7/30\n",
      "1313/1313 [==============================] - 138s 105ms/step - loss: 0.0237 - accuracy: 0.9927\n",
      "Epoch 8/30\n",
      "1313/1313 [==============================] - 148s 112ms/step - loss: 0.0249 - accuracy: 0.9921\n",
      "Epoch 9/30\n",
      "1313/1313 [==============================] - 146s 111ms/step - loss: 0.0194 - accuracy: 0.9938\n",
      "Epoch 10/30\n",
      "1313/1313 [==============================] - 147s 112ms/step - loss: 0.0189 - accuracy: 0.9940\n",
      "Epoch 11/30\n",
      "1313/1313 [==============================] - 147s 112ms/step - loss: 0.0153 - accuracy: 0.9955\n",
      "Epoch 12/30\n",
      "1313/1313 [==============================] - 142s 108ms/step - loss: 0.0153 - accuracy: 0.9954\n",
      "Epoch 13/30\n",
      "1313/1313 [==============================] - 140s 107ms/step - loss: 0.0127 - accuracy: 0.9959\n",
      "Epoch 14/30\n",
      "1313/1313 [==============================] - 151s 115ms/step - loss: 0.0145 - accuracy: 0.9955\n",
      "Epoch 15/30\n",
      "1313/1313 [==============================] - 149s 114ms/step - loss: 0.0115 - accuracy: 0.9969\n",
      "Epoch 16/30\n",
      "1313/1313 [==============================] - 147s 112ms/step - loss: 0.0114 - accuracy: 0.9966\n",
      "Epoch 17/30\n",
      "1313/1313 [==============================] - 150s 114ms/step - loss: 0.0128 - accuracy: 0.9959\n",
      "Epoch 18/30\n",
      "1313/1313 [==============================] - 144s 109ms/step - loss: 0.0105 - accuracy: 0.9967\n",
      "Epoch 19/30\n",
      "1313/1313 [==============================] - 135s 103ms/step - loss: 0.0106 - accuracy: 0.9964\n",
      "Epoch 20/30\n",
      "1313/1313 [==============================] - 134s 102ms/step - loss: 0.0097 - accuracy: 0.9970\n",
      "Epoch 21/30\n",
      "1313/1313 [==============================] - 135s 103ms/step - loss: 0.0083 - accuracy: 0.9975\n",
      "Epoch 22/30\n",
      "1313/1313 [==============================] - 135s 103ms/step - loss: 0.0085 - accuracy: 0.9973\n",
      "Epoch 23/30\n",
      "1313/1313 [==============================] - 141s 107ms/step - loss: 0.0098 - accuracy: 0.9972\n",
      "Epoch 24/30\n",
      "1313/1313 [==============================] - 136s 104ms/step - loss: 0.0080 - accuracy: 0.9974\n",
      "Epoch 25/30\n",
      "1313/1313 [==============================] - 136s 104ms/step - loss: 0.0069 - accuracy: 0.9980\n",
      "Epoch 26/30\n",
      "1313/1313 [==============================] - 140s 106ms/step - loss: 0.0064 - accuracy: 0.9980\n",
      "Epoch 27/30\n",
      "1313/1313 [==============================] - 62529s 48s/step - loss: 0.0082 - accuracy: 0.9974\n",
      "Epoch 28/30\n",
      "1313/1313 [==============================] - 192s 146ms/step - loss: 0.0063 - accuracy: 0.9979\n",
      "Epoch 29/30\n",
      "1313/1313 [==============================] - 184s 140ms/step - loss: 0.0059 - accuracy: 0.9980\n",
      "Epoch 30/30\n",
      "1313/1313 [==============================] - 195s 149ms/step - loss: 0.0063 - accuracy: 0.9979\n"
     ]
    },
    {
     "data": {
      "text/plain": [
       "<keras.callbacks.History at 0x1ca08f66790>"
      ]
     },
     "execution_count": 15,
     "metadata": {},
     "output_type": "execute_result"
    }
   ],
   "source": [
    "model.fit(train,label,epochs=30)"
   ]
  },
  {
   "cell_type": "code",
   "execution_count": 17,
   "metadata": {},
   "outputs": [
    {
     "name": "stdout",
     "output_type": "stream",
     "text": [
      "875/875 [==============================] - 11s 13ms/step\n"
     ]
    },
    {
     "data": {
      "text/plain": [
       "array([2, 0, 9, ..., 3, 9, 2], dtype=int64)"
      ]
     },
     "execution_count": 17,
     "metadata": {},
     "output_type": "execute_result"
    }
   ],
   "source": [
    "result=model.predict(test)\n",
    "answer=np.argmax(result,axis=1)"
   ]
  },
  {
   "cell_type": "code",
   "execution_count": 30,
   "metadata": {},
   "outputs": [],
   "source": [
    "dt['label']=answer\n",
    "results=dt['label']"
   ]
  },
  {
   "cell_type": "code",
   "execution_count": 33,
   "metadata": {},
   "outputs": [],
   "source": [
    "results.to_csv('results.csv')"
   ]
  },
  {
   "cell_type": "code",
   "execution_count": null,
   "metadata": {},
   "outputs": [],
   "source": []
  }
 ],
 "metadata": {
  "kernelspec": {
   "display_name": "Python 3 (ipykernel)",
   "language": "python",
   "name": "python3"
  },
  "language_info": {
   "codemirror_mode": {
    "name": "ipython",
    "version": 3
   },
   "file_extension": ".py",
   "mimetype": "text/x-python",
   "name": "python",
   "nbconvert_exporter": "python",
   "pygments_lexer": "ipython3",
   "version": "3.9.12"
  }
 },
 "nbformat": 4,
 "nbformat_minor": 2
}
